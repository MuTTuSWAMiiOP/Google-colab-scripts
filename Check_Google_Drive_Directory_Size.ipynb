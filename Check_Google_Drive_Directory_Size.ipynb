{
  "nbformat": 4,
  "nbformat_minor": 0,
  "metadata": {
    "colab": {
      "name": "Check Google Drive Directory Size.ipynb",
      "provenance": [],
      "toc_visible": true
    },
    "kernelspec": {
      "name": "python3",
      "display_name": "Python 3"
    }
  },
  "cells": [
    {
      "cell_type": "markdown",
      "metadata": {
        "id": "aWg84pa0FZpm",
        "colab_type": "text"
      },
      "source": [
        "# Check size of a folder or a directory in Google Drive\n",
        "Mount your Google Drive first. It needs to be done every time you open the notebook."
      ]
    },
    {
      "cell_type": "code",
      "metadata": {
        "id": "UZzN5UqXFZ1b",
        "colab_type": "code",
        "colab": {},
        "cellView": "form"
      },
      "source": [
        "#@title Mount your Google Drive\n",
        "\n",
        "import os\n",
        "import sys\n",
        "from google.colab import drive\n",
        "\n",
        "drive.mount('/content/gdrive')\n",
        "gdrive_path = r'/content/gdrive/My Drive'\n",
        "drive_path = r'/content/My_Drive'\n",
        "os.symlink(gdrive_path, drive_path)\n",
        "sys.path.insert(0, drive_path)\n",
        "print('Working Google Drive Path:', drive_path)"
      ],
      "execution_count": null,
      "outputs": []
    },
    {
      "cell_type": "code",
      "metadata": {
        "id": "lwuPQ5ENJYhu",
        "colab_type": "code",
        "colab": {
          "base_uri": "https://localhost:8080/",
          "height": 54
        },
        "cellView": "form",
        "outputId": "90e3ef51-42f6-4e72-cd35-477e8217d226"
      },
      "source": [
        "#@title Input directory and unit of measurement\n",
        "\n",
        "# Credit:\n",
        "# https://stackoverflow.com/a/1392549\n",
        "\n",
        "def get_size(start_path = '.', unit='MB'):\n",
        "    total_size = 0\n",
        "    for dirpath, dirnames, filenames in os.walk(start_path):\n",
        "        for f in filenames:\n",
        "            fp = os.path.join(dirpath, f)\n",
        "            # skip if it is symbolic link\n",
        "            if not os.path.islink(fp):\n",
        "                total_size += os.path.getsize(fp)\n",
        "\n",
        "    if unit == 'MB':\n",
        "      total_size *= 1e-6\n",
        "    elif unit == 'GB':\n",
        "      total_size *= 1e-9\n",
        "    elif unit == 'TB':\n",
        "      total_size *= 1e-12\n",
        "\n",
        "    return total_size\n",
        "\n",
        "target_dir = '/content/My_Drive/Project_Data/' #@param {type: 'string'}\n",
        "output_unit = 'GB' #@param ['MB', 'GB', 'TB']\n",
        "\n",
        "dir_size = round(get_size(target_dir, output_unit), 2)\n",
        "print('Target directory:', target_dir)\n",
        "print('Directory size is', dir_size, output_unit)"
      ],
      "execution_count": 30,
      "outputs": [
        {
          "output_type": "stream",
          "text": [
            "Target directory: /content/My_Drive/Project_Data/\n",
            "Directory size is 18.38 GB\n"
          ],
          "name": "stdout"
        }
      ]
    }
  ]
}